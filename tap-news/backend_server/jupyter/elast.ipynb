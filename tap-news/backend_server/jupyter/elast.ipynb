{
 "cells": [
  {
   "cell_type": "code",
   "execution_count": 1,
   "metadata": {},
   "outputs": [
    {
     "name": "stdout",
     "output_type": "stream",
     "text": [
      "{\n",
      "  \"name\" : \"idAwBkj\",\n",
      "  \"cluster_name\" : \"elasticsearch\",\n",
      "  \"cluster_uuid\" : \"GVeWRJgNRZubjiNgz5FQlQ\",\n",
      "  \"version\" : {\n",
      "    \"number\" : \"5.4.0\",\n",
      "    \"build_hash\" : \"780f8c4\",\n",
      "    \"build_date\" : \"2017-04-28T17:43:27.229Z\",\n",
      "    \"build_snapshot\" : false,\n",
      "    \"lucene_version\" : \"6.5.0\"\n",
      "  },\n",
      "  \"tagline\" : \"You Know, for Search\"\n",
      "}\n",
      "\n"
     ]
    }
   ],
   "source": [
    "# make sure ES is up and running\n",
    "import requests\n",
    "res = requests.get('http://localhost:9200')\n",
    "print(res.content)\n"
   ]
  },
  {
   "cell_type": "code",
   "execution_count": 1,
   "metadata": {},
   "outputs": [
    {
     "name": "stdout",
     "output_type": "stream",
     "text": [
      "<Elasticsearch([{'host': 'localhost', 'port': 9200}])>\n"
     ]
    }
   ],
   "source": [
    "#connect to our cluster\n",
    "from elasticsearch import Elasticsearch\n",
    "es = Elasticsearch([{'host': 'localhost', 'port': 9200}])\n",
    "print es"
   ]
  },
  {
   "cell_type": "code",
   "execution_count": 10,
   "metadata": {},
   "outputs": [],
   "source": [
    "import json\n",
    "import csv\n",
    "with open('export.csv') as f:\n",
    "    reader = csv.DictReader(f)\n",
    "    rows = list(reader)\n",
    "    for data in rows:\n",
    "        es.index(index='news',doc_type='news', body=data)"
   ]
  },
  {
   "cell_type": "code",
   "execution_count": 12,
   "metadata": {},
   "outputs": [
    {
     "ename": "TypeError",
     "evalue": "get() takes at least 3 arguments (4 given)",
     "output_type": "error",
     "traceback": [
      "\u001b[0;31m---------------------------------------------------------------------------\u001b[0m",
      "\u001b[0;31mTypeError\u001b[0m                                 Traceback (most recent call last)",
      "\u001b[0;32m<ipython-input-12-f4a39d9c2dfb>\u001b[0m in \u001b[0;36m<module>\u001b[0;34m()\u001b[0m\n\u001b[0;32m----> 1\u001b[0;31m \u001b[0mes\u001b[0m\u001b[0;34m.\u001b[0m\u001b[0mget\u001b[0m\u001b[0;34m(\u001b[0m\u001b[0mindex\u001b[0m\u001b[0;34m=\u001b[0m\u001b[0;34m'test'\u001b[0m\u001b[0;34m,\u001b[0m \u001b[0mdoc_type\u001b[0m\u001b[0;34m=\u001b[0m\u001b[0;34m'text'\u001b[0m\u001b[0;34m)\u001b[0m\u001b[0;34m\u001b[0m\u001b[0m\n\u001b[0m",
      "\u001b[0;32m/usr/local/lib/python2.7/dist-packages/elasticsearch/client/utils.pyc\u001b[0m in \u001b[0;36m_wrapped\u001b[0;34m(*args, **kwargs)\u001b[0m\n\u001b[1;32m     71\u001b[0m                 \u001b[0;32mif\u001b[0m \u001b[0mp\u001b[0m \u001b[0;32min\u001b[0m \u001b[0mkwargs\u001b[0m\u001b[0;34m:\u001b[0m\u001b[0;34m\u001b[0m\u001b[0m\n\u001b[1;32m     72\u001b[0m                     \u001b[0mparams\u001b[0m\u001b[0;34m[\u001b[0m\u001b[0mp\u001b[0m\u001b[0;34m]\u001b[0m \u001b[0;34m=\u001b[0m \u001b[0mkwargs\u001b[0m\u001b[0;34m.\u001b[0m\u001b[0mpop\u001b[0m\u001b[0;34m(\u001b[0m\u001b[0mp\u001b[0m\u001b[0;34m)\u001b[0m\u001b[0;34m\u001b[0m\u001b[0m\n\u001b[0;32m---> 73\u001b[0;31m             \u001b[0;32mreturn\u001b[0m \u001b[0mfunc\u001b[0m\u001b[0;34m(\u001b[0m\u001b[0;34m*\u001b[0m\u001b[0margs\u001b[0m\u001b[0;34m,\u001b[0m \u001b[0mparams\u001b[0m\u001b[0;34m=\u001b[0m\u001b[0mparams\u001b[0m\u001b[0;34m,\u001b[0m \u001b[0;34m**\u001b[0m\u001b[0mkwargs\u001b[0m\u001b[0;34m)\u001b[0m\u001b[0;34m\u001b[0m\u001b[0m\n\u001b[0m\u001b[1;32m     74\u001b[0m         \u001b[0;32mreturn\u001b[0m \u001b[0m_wrapped\u001b[0m\u001b[0;34m\u001b[0m\u001b[0m\n\u001b[1;32m     75\u001b[0m     \u001b[0;32mreturn\u001b[0m \u001b[0m_wrapper\u001b[0m\u001b[0;34m\u001b[0m\u001b[0m\n",
      "\u001b[0;31mTypeError\u001b[0m: get() takes at least 3 arguments (4 given)"
     ]
    }
   ],
   "source": [
    "es.get(index='test', doc_type='text', )"
   ]
  },
  {
   "cell_type": "code",
   "execution_count": 8,
   "metadata": {},
   "outputs": [
    {
     "name": "stdout",
     "output_type": "stream",
     "text": [
      "10\n"
     ]
    }
   ],
   "source": [
    "res = es.search(index=\"news\", body={\"query\": {\"match_all\": {}}})\n",
    "print len(res['hits']['hits'])"
   ]
  },
  {
   "cell_type": "code",
   "execution_count": 2,
   "metadata": {
    "collapsed": true,
    "scrolled": false
   },
   "outputs": [],
   "source": [
    "result = es.search(index=\"news\", body={\"query\": {\"more_like_this\": \n",
    "                                { \"fields\" : [\"title\", \"description\"],\"like_text\" : \"Trump\",\"min_term_freq\" : 1}}})"
   ]
  },
  {
   "cell_type": "code",
   "execution_count": 4,
   "metadata": {
    "collapsed": true
   },
   "outputs": [],
   "source": [
    "import json\n",
    "jsonR = json.dumps(result)"
   ]
  },
  {
   "cell_type": "code",
   "execution_count": 19,
   "metadata": {},
   "outputs": [
    {
     "name": "stdout",
     "output_type": "stream",
     "text": [
      "{u'description': u'At least 13 people were arrested as pro-Trump and anti-Trump protestors clashed Saturday at a park in Berkeley, California, police said.', u'title': u'Pro-Trump, anti-Trump protesters clash in Berkeley', u'url': u'http://www.cnn.com/2017/04/15/us/berkeley-protests-trump/index.html', u'author': u'Ralph Ellis and Tony Marco, CNN', u'publishedAt': u'2017-04-15T23:50:56.000Z', u'source': u'cnn', u'urlToImage': u'http://i2.cdn.cnn.com/cnnnext/dam/assets/170415161642-berkeley-protesters-01-super-tease.jpg', u'class': u'Politics & Government', u'digest': u'MrI5ZMh1wrEwPQ9le8GuuQ==\\n'}\n"
     ]
    }
   ],
   "source": [
    "print result['hits']['hits'][0]['_source']"
   ]
  },
  {
   "cell_type": "code",
   "execution_count": 3,
   "metadata": {},
   "outputs": [
    {
     "name": "stdout",
     "output_type": "stream",
     "text": [
      "[{u'description': u'At least 13 people were arrested as pro-Trump and anti-Trump protestors clashed Saturday at a park in Berkeley, California, police said.', u'title': u'Pro-Trump, anti-Trump protesters clash in Berkeley', u'url': u'http://www.cnn.com/2017/04/15/us/berkeley-protests-trump/index.html', u'author': u'Ralph Ellis and Tony Marco, CNN', u'publishedAt': u'2017-04-15T23:50:56.000Z', u'source': u'cnn', u'urlToImage': u'http://i2.cdn.cnn.com/cnnnext/dam/assets/170415161642-berkeley-protesters-01-super-tease.jpg', u'class': u'Politics & Government', u'digest': u'MrI5ZMh1wrEwPQ9le8GuuQ==\\n'}, {u'description': u'One issue Trump supporters and critics agree on: The country remains deeply divided.', u'title': u'The Trump Years', u'url': u'https://www.usatoday.com/pages/interactives/news/the-trump-years/', u'author': u'', u'publishedAt': u'2017-04-26T14:16:51.000Z', u'source': u'usa-today', u'urlToImage': u'https://www.gannett-cdn.com/experiments/usatoday/responsive/2017/04-trump-presidency/assets/images/share.jpg', u'class': u'Sports', u'digest': u'A+srO26uwvAiKUG5yCFJxw==\\n'}, {u'description': u\"Larsen and Stras will join Judge Amul Thapar as nominees from the president's Supreme Court shortlists.\", u'title': u'Trump announces more judges', u'url': u'http://www.washingtonexaminer.com/trump-announces-more-judges/article/2622491', u'author': u'Sean Langille', u'publishedAt': u'2017-05-09T00:37:10.000Z', u'source': u'google-news', u'urlToImage': u'http://cdn.washingtonexaminer.biz/cache/1060x600-cd585e8512f2fd87ab0207856523945c.jpg', u'class': u'Politics & Government', u'digest': u'0Ouz8j3pP+mCQxUKIFfiww==\\n'}, {u'description': u'He used to trash the kingdom, but now the president is making it his first foreign stop.', u'title': u'Trump goes soft on Saudi', u'url': u'http://www.politico.com/story/2017/05/04/trump-saudi-arabia-238009', u'author': u'Michael Crowley', u'publishedAt': u'2017-05-04T10:41:00.000Z', u'source': u'google-news', u'urlToImage': u'http://static.politico.com/a2/71/c96beb484052a8e9b306424cd124/170504-trump-saudi-gty-1160.jpg', u'class': u'Other', u'digest': u'ykfgl8p2K/HyVDLKE7qPIQ==\\n'}, {u'description': u'President Donald Trump has a new best frenemy.', u'title': u'Trump dumps Russia for China', u'url': u'http://www.cnn.com/2017/04/14/politics/trump-china-russia/index.html', u'author': u'Nicole Gaouette', u'publishedAt': u'2017-04-14T10:15:18.000Z', u'source': u'cnn', u'urlToImage': u'http://i2.cdn.cnn.com/cnnnext/dam/assets/170407053321-02-trump-putin-split-0407-super-tease.jpg', u'class': u'Other', u'digest': u'u/235XFFHD3Ex34HStq01g==\\n'}, {u'description': u'Louis C.K. was host. But Alec Baldwin gave \\u201cS.N.L.\\u201d a double dose of topicality, portraying President Trump in the cold open and in a later sketch where he also played the embattled Fox News host.', u'title': u'On \\u2018S.N.L.,\\u2019 Alec Baldwin Is Trump, Bill O\\u2019Reilly and Trump (Again)', u'url': u'https://www.nytimes.com/2017/04/09/arts/television/snl-louis-ck-and-alec-baldwin-trump.html', u'author': u'Dave Itzkoff', u'publishedAt': u'2017-04-09T15:44:46.000Z', u'source': u'the-new-york-times', u'urlToImage': u'https://static01.nyt.com/images/2017/04/10/arts/10snl-2/10snl-2-facebookJumbo.jpg', u'class': u'Sports', u'digest': u'9vVGZHyo7YnOqmAcaiKp7A==\\n'}, {u'description': u'President Donald Trump is going back to his comfort zone of rallying his base after betraying a tinge of regretful nostalgia for the life of a billionaire reality star he left behind.', u'title': u'Trump finds comfort in rallying base', u'url': u'http://www.cnn.com/2017/04/29/politics/donald-trump-pennsylvania-rally/index.html', u'author': u'Stephen Collinson, CNN', u'publishedAt': u'2017-04-29T12:03:57.000Z', u'source': u'google-news', u'urlToImage': u'http://i2.cdn.cnn.com/cnnnext/dam/assets/170410121034-trump-super-tease.jpg', u'class': u'Media', u'digest': u'Sij7sDV+7WP4L9FYFNUe4g==\\n'}, {u'description': u'North Korea put on a muscle-flexing display of artillery power Tuesday to mark a national holiday and thumb its nose at US President Donald Trump\\'s declaration that the country has \"gotta behave.\"', u'title': u\"Is Donald Trump taking North Korea's bait?\", u'url': u'http://www.cnn.com/2017/04/25/politics/trump-north-korea-taunts/index.html', u'author': u'Nicole Gaouette', u'publishedAt': u'2017-04-25T17:52:26.000Z', u'source': u'google-news', u'urlToImage': u'http://i2.cdn.cnn.com/cnnnext/dam/assets/170425112204-01-north-korea-army-day-0424-super-tease.jpg', u'class': u'Media', u'digest': u'pKxLD5DYojjF5xrvUAZZ9w==\\n'}, {u'description': u'US President Donald Trump has become the first Western leader to congratulate Turkish President Recep Tayyip Erdogan for winning a controversial referendum that grants him far-reaching, largely unchecked powers.', u'title': u'Trump congratulates Erdogan for referendum win', u'url': u'http://www.cnn.com/2017/04/18/europe/turkey-referendum-trump-erdogan/index.html', u'author': u'Angela Dewan, CNN', u'publishedAt': u'2017-04-18T09:12:09.000Z', u'source': u'cnn', u'urlToImage': u'http://i2.cdn.cnn.com/cnnnext/dam/assets/170207195854-erdogan-trump-split-super-tease.jpg', u'class': u'Politics & Government', u'digest': u'NwAKSEiq91muQNk7RZjUJg==\\n'}, {u'description': u'President Donald Trump has made overhauling the nation\\'s immigration system a central promise of his administration -- and Tuesday he announced new efforts to get companies to \"buy American (and) hire American.\"', u'title': u\"The Trump family's long history with immigration\", u'url': u'http://www.cnn.com/2017/04/18/politics/trump-family-immigration-visas/index.html', u'author': u'Tal Kopan and Curt Devine, CNN', u'publishedAt': u'2017-04-18T19:36:32.000Z', u'source': u'google-news', u'urlToImage': u'http://i2.cdn.cnn.com/cnnnext/dam/assets/160718150050-meet-the-trump-family-hala-gorani-pkg-00030606-super-tease.jpg', u'class': u'Other', u'digest': u'f0lj2d+IdooPANssWYKGvw==\\n'}]\n"
     ]
    }
   ],
   "source": [
    "total_news=[]\n",
    "for i in result['hits']['hits']:\n",
    "    total_news.append(i['_source'])\n",
    "print total_news"
   ]
  },
  {
   "cell_type": "code",
   "execution_count": 11,
   "metadata": {},
   "outputs": [
    {
     "name": "stdout",
     "output_type": "stream",
     "text": [
      "[{u'description': u'At least 13 people were arrested as pro-Trump and anti-Trump protestors clashed Saturday at a park in Berkeley, California, police said.', u'title': u'Pro-Trump, anti-Trump protesters clash in Berkeley', u'url': u'http://www.cnn.com/2017/04/15/us/berkeley-protests-trump/index.html', u'author': u'Ralph Ellis and Tony Marco, CNN', u'publishedAt': u'2017-04-15T23:50:56.000Z', u'source': u'cnn', u'urlToImage': u'http://i2.cdn.cnn.com/cnnnext/dam/assets/170415161642-berkeley-protesters-01-super-tease.jpg', 'level': 0, u'class': u'Politics & Government', u'digest': u'MrI5ZMh1wrEwPQ9le8GuuQ==\\n'}, {u'description': u'One issue Trump supporters and critics agree on: The country remains deeply divided.', u'title': u'The Trump Years', u'url': u'https://www.usatoday.com/pages/interactives/news/the-trump-years/', u'author': u'', u'publishedAt': u'2017-04-26T14:16:51.000Z', u'source': u'usa-today', u'urlToImage': u'https://www.gannett-cdn.com/experiments/usatoday/responsive/2017/04-trump-presidency/assets/images/share.jpg', 'level': 1, u'class': u'Sports', u'digest': u'A+srO26uwvAiKUG5yCFJxw==\\n'}, {u'description': u\"Larsen and Stras will join Judge Amul Thapar as nominees from the president's Supreme Court shortlists.\", u'title': u'Trump announces more judges', u'url': u'http://www.washingtonexaminer.com/trump-announces-more-judges/article/2622491', u'author': u'Sean Langille', u'publishedAt': u'2017-05-09T00:37:10.000Z', u'source': u'google-news', u'urlToImage': u'http://cdn.washingtonexaminer.biz/cache/1060x600-cd585e8512f2fd87ab0207856523945c.jpg', 'level': 2, u'class': u'Politics & Government', u'digest': u'0Ouz8j3pP+mCQxUKIFfiww==\\n'}, {u'description': u'He used to trash the kingdom, but now the president is making it his first foreign stop.', u'title': u'Trump goes soft on Saudi', u'url': u'http://www.politico.com/story/2017/05/04/trump-saudi-arabia-238009', u'author': u'Michael Crowley', u'publishedAt': u'2017-05-04T10:41:00.000Z', u'source': u'google-news', u'urlToImage': u'http://static.politico.com/a2/71/c96beb484052a8e9b306424cd124/170504-trump-saudi-gty-1160.jpg', 'level': 3, u'class': u'Other', u'digest': u'ykfgl8p2K/HyVDLKE7qPIQ==\\n'}, {u'description': u'President Donald Trump has a new best frenemy.', u'title': u'Trump dumps Russia for China', u'url': u'http://www.cnn.com/2017/04/14/politics/trump-china-russia/index.html', u'author': u'Nicole Gaouette', u'publishedAt': u'2017-04-14T10:15:18.000Z', u'source': u'cnn', u'urlToImage': u'http://i2.cdn.cnn.com/cnnnext/dam/assets/170407053321-02-trump-putin-split-0407-super-tease.jpg', 'level': 4, u'class': u'Other', u'digest': u'u/235XFFHD3Ex34HStq01g==\\n'}, {u'description': u'Louis C.K. was host. But Alec Baldwin gave \\u201cS.N.L.\\u201d a double dose of topicality, portraying President Trump in the cold open and in a later sketch where he also played the embattled Fox News host.', u'title': u'On \\u2018S.N.L.,\\u2019 Alec Baldwin Is Trump, Bill O\\u2019Reilly and Trump (Again)', u'url': u'https://www.nytimes.com/2017/04/09/arts/television/snl-louis-ck-and-alec-baldwin-trump.html', u'author': u'Dave Itzkoff', u'publishedAt': u'2017-04-09T15:44:46.000Z', u'source': u'the-new-york-times', u'urlToImage': u'https://static01.nyt.com/images/2017/04/10/arts/10snl-2/10snl-2-facebookJumbo.jpg', 'level': 5, u'class': u'Sports', u'digest': u'9vVGZHyo7YnOqmAcaiKp7A==\\n'}, {u'description': u'President Donald Trump is going back to his comfort zone of rallying his base after betraying a tinge of regretful nostalgia for the life of a billionaire reality star he left behind.', u'title': u'Trump finds comfort in rallying base', u'url': u'http://www.cnn.com/2017/04/29/politics/donald-trump-pennsylvania-rally/index.html', u'author': u'Stephen Collinson, CNN', u'publishedAt': u'2017-04-29T12:03:57.000Z', u'source': u'google-news', u'urlToImage': u'http://i2.cdn.cnn.com/cnnnext/dam/assets/170410121034-trump-super-tease.jpg', 'level': 6, u'class': u'Media', u'digest': u'Sij7sDV+7WP4L9FYFNUe4g==\\n'}, {u'description': u'North Korea put on a muscle-flexing display of artillery power Tuesday to mark a national holiday and thumb its nose at US President Donald Trump\\'s declaration that the country has \"gotta behave.\"', u'title': u\"Is Donald Trump taking North Korea's bait?\", u'url': u'http://www.cnn.com/2017/04/25/politics/trump-north-korea-taunts/index.html', u'author': u'Nicole Gaouette', u'publishedAt': u'2017-04-25T17:52:26.000Z', u'source': u'google-news', u'urlToImage': u'http://i2.cdn.cnn.com/cnnnext/dam/assets/170425112204-01-north-korea-army-day-0424-super-tease.jpg', 'level': 7, u'class': u'Media', u'digest': u'pKxLD5DYojjF5xrvUAZZ9w==\\n'}, {u'description': u'US President Donald Trump has become the first Western leader to congratulate Turkish President Recep Tayyip Erdogan for winning a controversial referendum that grants him far-reaching, largely unchecked powers.', u'title': u'Trump congratulates Erdogan for referendum win', u'url': u'http://www.cnn.com/2017/04/18/europe/turkey-referendum-trump-erdogan/index.html', u'author': u'Angela Dewan, CNN', u'publishedAt': u'2017-04-18T09:12:09.000Z', u'source': u'cnn', u'urlToImage': u'http://i2.cdn.cnn.com/cnnnext/dam/assets/170207195854-erdogan-trump-split-super-tease.jpg', 'level': 8, u'class': u'Politics & Government', u'digest': u'NwAKSEiq91muQNk7RZjUJg==\\n'}, {u'description': u'President Donald Trump has made overhauling the nation\\'s immigration system a central promise of his administration -- and Tuesday he announced new efforts to get companies to \"buy American (and) hire American.\"', u'title': u\"The Trump family's long history with immigration\", u'url': u'http://www.cnn.com/2017/04/18/politics/trump-family-immigration-visas/index.html', u'author': u'Tal Kopan and Curt Devine, CNN', u'publishedAt': u'2017-04-18T19:36:32.000Z', u'source': u'google-news', u'urlToImage': u'http://i2.cdn.cnn.com/cnnnext/dam/assets/160718150050-meet-the-trump-family-hala-gorani-pkg-00030606-super-tease.jpg', 'level': 9, u'class': u'Other', u'digest': u'f0lj2d+IdooPANssWYKGvw==\\n'}]\n"
     ]
    }
   ],
   "source": [
    "k=0\n",
    "for j in total_news:\n",
    "    j['level']=k\n",
    "    k=k+1\n",
    "print total_news"
   ]
  },
  {
   "cell_type": "code",
   "execution_count": 12,
   "metadata": {},
   "outputs": [
    {
     "ename": "KeyError",
     "evalue": "'text'",
     "output_type": "error",
     "traceback": [
      "\u001b[0;31m---------------------------------------------------------------------------\u001b[0m",
      "\u001b[0;31mKeyError\u001b[0m                                  Traceback (most recent call last)",
      "\u001b[0;32m<ipython-input-12-dff2115ad0fc>\u001b[0m in \u001b[0;36m<module>\u001b[0;34m()\u001b[0m\n\u001b[1;32m      3\u001b[0m         \u001b[0;31m#print 'Create News class [%s] label, Current Top Preference is [%s]' % (news['class'], topPreference)\u001b[0m\u001b[0;34m\u001b[0m\u001b[0;34m\u001b[0m\u001b[0m\n\u001b[1;32m      4\u001b[0m         \u001b[0;31m#remove text field to save bandwidth\u001b[0m\u001b[0;34m\u001b[0m\u001b[0;34m\u001b[0m\u001b[0m\n\u001b[0;32m----> 5\u001b[0;31m         \u001b[0;32mdel\u001b[0m \u001b[0mnews\u001b[0m\u001b[0;34m[\u001b[0m\u001b[0;34m'text'\u001b[0m\u001b[0;34m]\u001b[0m\u001b[0;34m\u001b[0m\u001b[0m\n\u001b[0m\u001b[1;32m      6\u001b[0m         \u001b[0;32mif\u001b[0m \u001b[0mnews\u001b[0m\u001b[0;34m[\u001b[0m\u001b[0;34m'publishedAt'\u001b[0m\u001b[0;34m]\u001b[0m\u001b[0;34m.\u001b[0m\u001b[0mdate\u001b[0m\u001b[0;34m(\u001b[0m\u001b[0;34m)\u001b[0m \u001b[0;34m==\u001b[0m \u001b[0mdatetime\u001b[0m\u001b[0;34m.\u001b[0m\u001b[0mtoday\u001b[0m\u001b[0;34m(\u001b[0m\u001b[0;34m)\u001b[0m\u001b[0;34m.\u001b[0m\u001b[0mdate\u001b[0m\u001b[0;34m(\u001b[0m\u001b[0;34m)\u001b[0m\u001b[0;34m:\u001b[0m\u001b[0;34m\u001b[0m\u001b[0m\n\u001b[1;32m      7\u001b[0m             \u001b[0mnews\u001b[0m\u001b[0;34m[\u001b[0m\u001b[0;34m'time'\u001b[0m\u001b[0;34m]\u001b[0m \u001b[0;34m=\u001b[0m \u001b[0;34m'today'\u001b[0m\u001b[0;34m\u001b[0m\u001b[0m\n",
      "\u001b[0;31mKeyError\u001b[0m: 'text'"
     ]
    }
   ],
   "source": [
    "for news in total_news:\n",
    "        #log_client.logger.debug('Create News class [%s] label, Current Top Preference is [%s]' % (news['class'], topPreference))\n",
    "        #print 'Create News class [%s] label, Current Top Preference is [%s]' % (news['class'], topPreference)\n",
    "        #remove text field to save bandwidth\n",
    "        del news['text']\n",
    "        if news['publishedAt'].date() == datetime.today().date():\n",
    "            news['time'] = 'today'\n",
    "        else:\n",
    "            news['time'] = news['publishedAt'].date().strftime(\"%A %d. %B %Y\")"
   ]
  },
  {
   "cell_type": "code",
   "execution_count": 9,
   "metadata": {},
   "outputs": [
    {
     "data": {
      "text/plain": [
       "{u'acknowledged': True}"
      ]
     },
     "execution_count": 9,
     "metadata": {},
     "output_type": "execute_result"
    }
   ],
   "source": [
    "es.indices.delete(index='news')"
   ]
  },
  {
   "cell_type": "code",
   "execution_count": null,
   "metadata": {
    "collapsed": true
   },
   "outputs": [],
   "source": []
  }
 ],
 "metadata": {
  "kernelspec": {
   "display_name": "Python 2",
   "language": "python",
   "name": "python2"
  },
  "language_info": {
   "codemirror_mode": {
    "name": "ipython",
    "version": 2
   },
   "file_extension": ".py",
   "mimetype": "text/x-python",
   "name": "python",
   "nbconvert_exporter": "python",
   "pygments_lexer": "ipython2",
   "version": "2.7.12"
  }
 },
 "nbformat": 4,
 "nbformat_minor": 2
}
